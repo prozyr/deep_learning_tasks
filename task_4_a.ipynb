{
  "cells": [
    {
      "cell_type": "code",
      "execution_count": 1,
      "metadata": {
        "colab": {
          "base_uri": "https://localhost:8080/"
        },
        "id": "TeHfw4ETXDIu",
        "outputId": "3c8524ce-f81e-4986-e48e-e5c7ece48d0f"
      },
      "outputs": [
        {
          "output_type": "stream",
          "name": "stdout",
          "text": [
            "--2023-12-21 12:06:34--  https://storage.googleapis.com/download.tensorflow.org/example_images/flower_photos.tgz\n",
            "Resolving storage.googleapis.com (storage.googleapis.com)... 142.251.16.207, 172.253.62.207, 142.251.163.207, ...\n",
            "Connecting to storage.googleapis.com (storage.googleapis.com)|142.251.16.207|:443... connected.\n",
            "HTTP request sent, awaiting response... 200 OK\n",
            "Length: 228813984 (218M) [application/x-compressed-tar]\n",
            "Saving to: ‘flower_photos.tgz’\n",
            "\n",
            "flower_photos.tgz   100%[===================>] 218.21M   118MB/s    in 1.9s    \n",
            "\n",
            "2023-12-21 12:06:37 (118 MB/s) - ‘flower_photos.tgz’ saved [228813984/228813984]\n",
            "\n"
          ]
        }
      ],
      "source": [
        "!wget https://storage.googleapis.com/download.tensorflow.org/example_images/flower_photos.tgz"
      ]
    },
    {
      "cell_type": "code",
      "source": [
        "!pip install mahotas"
      ],
      "metadata": {
        "colab": {
          "base_uri": "https://localhost:8080/"
        },
        "id": "bFaS0TQeRx73",
        "outputId": "3925e7cd-02bf-456c-d3a5-cb70af368874"
      },
      "execution_count": 8,
      "outputs": [
        {
          "output_type": "stream",
          "name": "stdout",
          "text": [
            "Collecting mahotas\n",
            "  Downloading mahotas-1.4.13-cp310-cp310-manylinux_2_17_x86_64.manylinux2014_x86_64.whl (5.4 MB)\n",
            "\u001b[?25l     \u001b[90m━━━━━━━━━━━━━━━━━━━━━━━━━━━━━━━━━━━━━━━━\u001b[0m \u001b[32m0.0/5.4 MB\u001b[0m \u001b[31m?\u001b[0m eta \u001b[36m-:--:--\u001b[0m\r\u001b[2K     \u001b[91m╸\u001b[0m\u001b[90m━━━━━━━━━━━━━━━━━━━━━━━━━━━━━━━━━━━━━━━\u001b[0m \u001b[32m0.1/5.4 MB\u001b[0m \u001b[31m2.5 MB/s\u001b[0m eta \u001b[36m0:00:03\u001b[0m\r\u001b[2K     \u001b[91m━━━━━━━━━━━\u001b[0m\u001b[91m╸\u001b[0m\u001b[90m━━━━━━━━━━━━━━━━━━━━━━━━━━━━\u001b[0m \u001b[32m1.6/5.4 MB\u001b[0m \u001b[31m23.1 MB/s\u001b[0m eta \u001b[36m0:00:01\u001b[0m\r\u001b[2K     \u001b[91m━━━━━━━━━━━━━━━━━━━━━━━━━━━━━━━━━━━━━━━\u001b[0m\u001b[91m╸\u001b[0m \u001b[32m5.4/5.4 MB\u001b[0m \u001b[31m53.6 MB/s\u001b[0m eta \u001b[36m0:00:01\u001b[0m\r\u001b[2K     \u001b[90m━━━━━━━━━━━━━━━━━━━━━━━━━━━━━━━━━━━━━━━━\u001b[0m \u001b[32m5.4/5.4 MB\u001b[0m \u001b[31m40.6 MB/s\u001b[0m eta \u001b[36m0:00:00\u001b[0m\n",
            "\u001b[?25hRequirement already satisfied: numpy in /usr/local/lib/python3.10/dist-packages (from mahotas) (1.23.5)\n",
            "Installing collected packages: mahotas\n",
            "Successfully installed mahotas-1.4.13\n"
          ]
        }
      ]
    },
    {
      "cell_type": "code",
      "source": [
        "!tar -xzvf \"flower_photos.tgz\" -C \".\" > xx\n",
        "print(\"Unzipped\")"
      ],
      "metadata": {
        "colab": {
          "base_uri": "https://localhost:8080/"
        },
        "id": "vA2-1OTvRbew",
        "outputId": "964fd833-609f-4ffd-e8d7-43b2e7aa5000"
      },
      "execution_count": 2,
      "outputs": [
        {
          "output_type": "stream",
          "name": "stdout",
          "text": [
            "Unzipped\n"
          ]
        }
      ]
    },
    {
      "cell_type": "code",
      "execution_count": 210,
      "metadata": {
        "id": "iqXpX21Z5bz2"
      },
      "outputs": [],
      "source": [
        "import tensorflow as tf\n",
        "from tensorflow.keras.models import Sequential\n",
        "from tensorflow.keras.layers import Dense\n",
        "import numpy as np"
      ]
    },
    {
      "cell_type": "code",
      "execution_count": 5,
      "metadata": {
        "colab": {
          "base_uri": "https://localhost:8080/"
        },
        "id": "Q1Vmacl60Em0",
        "outputId": "3c30cc1b-ac5f-49ab-a559-f3ef3ae75df7"
      },
      "outputs": [
        {
          "output_type": "stream",
          "name": "stdout",
          "text": [
            "loaded 3670  samples\n",
            "classes {'sunflowers', 'daisy', 'roses', 'dandelion', 'tulips'}\n"
          ]
        }
      ],
      "source": [
        "import cv2\n",
        "import os\n",
        "import sklearn\n",
        "\n",
        "image_size = tuple((64, 64))\n",
        "\n",
        "def load_img(indir):\n",
        "    samples = []\n",
        "    labels = []\n",
        "    for class_dir in os.listdir(indir):\n",
        "        the_class = class_dir\n",
        "        for file in os.listdir(indir+'/'+class_dir):\n",
        "            image = cv2.imread(\"{}/{}/{}\".format(indir,class_dir,file))\n",
        "            #image = preprocess_input(image)\n",
        "            image = cv2.resize(image, image_size)\n",
        "            samples.append(image)\n",
        "            labels.append(the_class)\n",
        "    samples = np.array(samples)\n",
        "    labels = np.array(labels)\n",
        "    return samples,labels\n",
        "samples, labels = load_img('flower_photos')\n",
        "samples,labels = sklearn.utils.shuffle(samples,labels)\n",
        "print('loaded',len(samples),' samples')\n",
        "print('classes',set(labels))\n"
      ]
    },
    {
      "cell_type": "code",
      "execution_count": 6,
      "metadata": {
        "colab": {
          "base_uri": "https://localhost:8080/"
        },
        "id": "bvZGMAxG0oyR",
        "outputId": "20d9b536-d7c8-4175-eadf-93d31b6596d0"
      },
      "outputs": [
        {
          "output_type": "execute_result",
          "data": {
            "text/plain": [
              "((3670, 64, 64, 3), (3670,))"
            ]
          },
          "metadata": {},
          "execution_count": 6
        }
      ],
      "source": [
        "org_samples, org_labels = samples, labels\n",
        "samples.shape, labels.shape"
      ]
    },
    {
      "cell_type": "markdown",
      "metadata": {
        "id": "Fpq3Yp6_04Jk"
      },
      "source": []
    },
    {
      "cell_type": "code",
      "execution_count": 9,
      "metadata": {
        "id": "JYmRWr1a03PC"
      },
      "outputs": [],
      "source": [
        "import mahotas\n",
        "\n",
        "\n",
        "# feature-descriptor-1: Hu Moments\n",
        "def fd_hu_moments(image):\n",
        "    image = cv2.cvtColor(image, cv2.COLOR_BGR2GRAY)\n",
        "    feature = cv2.HuMoments(cv2.moments(image)).flatten()\n",
        "    return feature\n",
        "\n",
        "def fd_haralick(image):\n",
        "    # convert the image to grayscale\n",
        "    gray = cv2.cvtColor(image, cv2.COLOR_BGR2GRAY)\n",
        "    # compute the haralick texture feature vector\n",
        "    haralick = mahotas.features.haralick(gray).mean(axis=0)\n",
        "    return haralick\n",
        "\n",
        "def fd_histogram(image, mask=None):\n",
        "    bins=8\n",
        "    # convert the image to HSV color-space\n",
        "    image = cv2.cvtColor(image, cv2.COLOR_BGR2HSV)\n",
        "    # compute the color histogram\n",
        "    hist  = cv2.calcHist([image], [0, 1, 2], None, [bins, bins, bins], [0, 256, 0, 256, 0, 256])\n",
        "    # normalize the histogram\n",
        "    cv2.normalize(hist, hist)\n",
        "    return hist.flatten()"
      ]
    },
    {
      "cell_type": "code",
      "execution_count": 18,
      "metadata": {
        "colab": {
          "base_uri": "https://localhost:8080/"
        },
        "id": "D2mIvo1z1N5X",
        "outputId": "04d2fa36-c26c-466e-8eab-14aa4d66a572"
      },
      "outputs": [
        {
          "output_type": "stream",
          "name": "stdout",
          "text": [
            "0 / 3670\n",
            "500 / 3670\n",
            "1000 / 3670\n",
            "1500 / 3670\n",
            "2000 / 3670\n",
            "2500 / 3670\n",
            "3000 / 3670\n",
            "3500 / 3670\n",
            "(3670, 532)\n"
          ]
        }
      ],
      "source": [
        "new_samples = []\n",
        "for i,image in enumerate(samples):\n",
        "    fv_hu_moments = fd_hu_moments(image)\n",
        "    fv_haralick   = fd_haralick(image)\n",
        "    fv_histogram  = fd_histogram(image)\n",
        "    if(i%500==0): print(i,'/',len(samples))\n",
        "    features = np.hstack([fv_histogram, fv_haralick, fv_hu_moments])\n",
        "    new_samples.append(features)\n",
        "samples = np.array(new_samples)\n",
        "#np.savetxt('samples.csv',fsamples) #save it if you want to reuse it!\n",
        "print(samples.shape)"
      ]
    },
    {
      "cell_type": "code",
      "execution_count": 211,
      "metadata": {
        "colab": {
          "base_uri": "https://localhost:8080/"
        },
        "id": "EdpeXKK_1thu",
        "outputId": "20d85e1f-cc0a-4558-883f-21c6d27acd97"
      },
      "outputs": [
        {
          "output_type": "stream",
          "name": "stdout",
          "text": [
            "0.0 1.0000000000000004\n",
            "0.0 1.0\n"
          ]
        }
      ],
      "source": [
        "from sklearn.preprocessing import MinMaxScaler\n",
        "scaler = MinMaxScaler(feature_range=(0, 1))\n",
        "print(np.min(samples),np.max(samples))\n",
        "samples = scaler.fit_transform(samples)\n",
        "print(np.min(samples),np.max(samples))"
      ]
    },
    {
      "cell_type": "code",
      "execution_count": 212,
      "metadata": {
        "colab": {
          "base_uri": "https://localhost:8080/"
        },
        "id": "zKQLjC7l1wlx",
        "outputId": "ebb79757-dabc-46d6-b4f5-b6188ac7fdb9"
      },
      "outputs": [
        {
          "output_type": "stream",
          "name": "stdout",
          "text": [
            "(3670, 5)\n"
          ]
        }
      ],
      "source": [
        "from sklearn.preprocessing import LabelBinarizer\n",
        "lb = LabelBinarizer()\n",
        "labels = lb.fit_transform(labels)\n",
        "labels = np.array(labels,dtype=float)\n",
        "print(labels.shape)"
      ]
    },
    {
      "cell_type": "markdown",
      "source": [
        "Model Dense"
      ],
      "metadata": {
        "id": "aB54i3K_nV0E"
      }
    },
    {
      "cell_type": "code",
      "execution_count": 224,
      "metadata": {
        "colab": {
          "base_uri": "https://localhost:8080/"
        },
        "id": "kYwDAXKh1zYi",
        "outputId": "75eb883c-82c1-4ef5-be90-9ddfbf76b3d1"
      },
      "outputs": [
        {
          "output_type": "stream",
          "name": "stdout",
          "text": [
            "Model: \"sequential_20\"\n",
            "_________________________________________________________________\n",
            " Layer (type)                Output Shape              Param #   \n",
            "=================================================================\n",
            " dense_81 (Dense)            (None, 256)               136448    \n",
            "                                                                 \n",
            " dense_82 (Dense)            (None, 128)               32896     \n",
            "                                                                 \n",
            " dense_83 (Dense)            (None, 64)                8256      \n",
            "                                                                 \n",
            " dense_84 (Dense)            (None, 32)                2080      \n",
            "                                                                 \n",
            "=================================================================\n",
            "Total params: 179680 (701.88 KB)\n",
            "Trainable params: 179680 (701.88 KB)\n",
            "Non-trainable params: 0 (0.00 Byte)\n",
            "_________________________________________________________________\n"
          ]
        }
      ],
      "source": [
        "dense_model = Sequential()\n",
        "dense_model.add(Dense(256, input_dim=532, activation='relu'))\n",
        "dense_model.add(Dense(128, activation='relu'))\n",
        "dense_model.add(Dense(64, activation='relu'))\n",
        "dense_model.add(Dense(32, activation='relu'))\n",
        "dense_model.summary()\n",
        "dense_model.compile(loss='categorical_crossentropy', optimizer=\"adam\", metrics=['accuracy'])\n"
      ]
    },
    {
      "cell_type": "markdown",
      "source": [
        "Model CNN"
      ],
      "metadata": {
        "id": "U9rVTOpjnULO"
      }
    },
    {
      "cell_type": "code",
      "execution_count": 225,
      "metadata": {
        "colab": {
          "base_uri": "https://localhost:8080/"
        },
        "id": "RUSkaHKH2Lqy",
        "outputId": "11fb339e-bf81-4fdf-e17d-993b2a85e47d"
      },
      "outputs": [
        {
          "output_type": "stream",
          "name": "stdout",
          "text": [
            "Model: \"sequential_21\"\n",
            "_________________________________________________________________\n",
            " Layer (type)                Output Shape              Param #   \n",
            "=================================================================\n",
            " conv2d_20 (Conv2D)          (None, 64, 64, 32)        896       \n",
            "                                                                 \n",
            " batch_normalization_20 (Ba  (None, 64, 64, 32)        128       \n",
            " tchNormalization)                                               \n",
            "                                                                 \n",
            " activation_39 (Activation)  (None, 64, 64, 32)        0         \n",
            "                                                                 \n",
            " max_pooling2d_20 (MaxPooli  (None, 32, 32, 32)        0         \n",
            " ng2D)                                                           \n",
            "                                                                 \n",
            " conv2d_21 (Conv2D)          (None, 32, 32, 64)        18496     \n",
            "                                                                 \n",
            " batch_normalization_21 (Ba  (None, 32, 32, 64)        256       \n",
            " tchNormalization)                                               \n",
            "                                                                 \n",
            " activation_40 (Activation)  (None, 32, 32, 64)        0         \n",
            "                                                                 \n",
            " max_pooling2d_21 (MaxPooli  (None, 16, 16, 64)        0         \n",
            " ng2D)                                                           \n",
            "                                                                 \n",
            " dropout_10 (Dropout)        (None, 16, 16, 64)        0         \n",
            "                                                                 \n",
            " flatten_10 (Flatten)        (None, 16384)             0         \n",
            "                                                                 \n",
            " dense_85 (Dense)            (None, 128)               2097280   \n",
            "                                                                 \n",
            " activation_41 (Activation)  (None, 128)               0         \n",
            "                                                                 \n",
            " dense_86 (Dense)            (None, 32)                4128      \n",
            "                                                                 \n",
            " activation_42 (Activation)  (None, 32)                0         \n",
            "                                                                 \n",
            "=================================================================\n",
            "Total params: 2121184 (8.09 MB)\n",
            "Trainable params: 2120992 (8.09 MB)\n",
            "Non-trainable params: 192 (768.00 Byte)\n",
            "_________________________________________________________________\n"
          ]
        }
      ],
      "source": [
        "from tensorflow.keras.layers import Dense, Activation, Dropout, Flatten, Conv2D, MaxPooling2D, BatchNormalization\n",
        "cnn_model = Sequential()\n",
        "cnn_model.add(Conv2D(32, (3, 3), padding=\"same\",input_shape=(64,64,3)))\n",
        "cnn_model.add(BatchNormalization())\n",
        "cnn_model.add(Activation(\"relu\"))\n",
        "cnn_model.add(MaxPooling2D(pool_size=(2, 2)))\n",
        "cnn_model.add(Conv2D(64, (3, 3), padding=\"same\"))\n",
        "cnn_model.add(BatchNormalization())\n",
        "cnn_model.add(Activation(\"relu\"))\n",
        "cnn_model.add(MaxPooling2D(pool_size=(2, 2)))\n",
        "cnn_model.add(Dropout(0.25))\n",
        "\n",
        "cnn_model.add(Flatten())\n",
        "cnn_model.add(Dense(128))\n",
        "cnn_model.add(Activation(\"relu\"))\n",
        "cnn_model.add(Dense(32))\n",
        "cnn_model.add(Activation(\"relu\"))\n",
        "\n",
        "cnn_model.summary()\n",
        "optimizer = tf.keras.optimizers.RMSprop(0.0001)\n",
        "cnn_model.compile(loss='categorical_crossentropy', optimizer=optimizer,metrics=['accuracy'])"
      ]
    },
    {
      "cell_type": "markdown",
      "source": [
        "Synergy Model"
      ],
      "metadata": {
        "id": "F7dJtl7TnRb6"
      }
    },
    {
      "cell_type": "code",
      "execution_count": 226,
      "metadata": {
        "id": "WzqL36ak2UU2"
      },
      "outputs": [],
      "source": [
        "from tensorflow.keras.layers import concatenate, Dense\n",
        "from tensorflow.keras.models import Model\n",
        "\n",
        "syn_model = concatenate([dense_model.output, cnn_model.output])\n",
        "syn_model = Dense(50, activation=\"relu\")(syn_model)\n",
        "syn_model = Dense(5, activation=\"softmax\")(syn_model)\n",
        "\n",
        "model = Model(inputs=[dense_model.input, cnn_model.input], outputs=syn_model)\n",
        "\n",
        "model.compile(loss='categorical_crossentropy', optimizer=\"adam\",metrics=['accuracy'])"
      ]
    },
    {
      "cell_type": "markdown",
      "source": [
        "Prepare dataset"
      ],
      "metadata": {
        "id": "pGWUXm2ynOHc"
      }
    },
    {
      "cell_type": "code",
      "source": [
        "split = 0.8\n",
        "img_samples = org_samples / 255.0\n",
        "trainSamples, trainLabels = [samples[0:int(len(samples)*split)], img_samples[0:int(len(img_samples)*split)]],labels[0:int(len(labels)*split)],\n",
        "testSamples, testLabels = [samples[int(len(samples)*split):], img_samples[int(len(img_samples)*split):]], labels[int(len(labels)*split):],\n",
        ""
      ],
      "metadata": {
        "id": "F2uFN4XIVywi"
      },
      "execution_count": 216,
      "outputs": []
    },
    {
      "cell_type": "code",
      "execution_count": 227,
      "metadata": {
        "colab": {
          "base_uri": "https://localhost:8080/"
        },
        "id": "jFGBbiZJ6xIp",
        "outputId": "91ba8e72-02b0-4aa6-d141-8c86a0ca39af"
      },
      "outputs": [
        {
          "output_type": "stream",
          "name": "stdout",
          "text": [
            "Epoch 1/20\n",
            "184/184 [==============================] - 32s 156ms/step - loss: 1.4773 - accuracy: 0.4135 - val_loss: 1.5567 - val_accuracy: 0.2861\n",
            "Epoch 2/20\n",
            "184/184 [==============================] - 29s 156ms/step - loss: 1.0410 - accuracy: 0.5869 - val_loss: 1.2874 - val_accuracy: 0.4700\n",
            "Epoch 3/20\n",
            "184/184 [==============================] - 29s 157ms/step - loss: 0.8807 - accuracy: 0.6594 - val_loss: 1.0484 - val_accuracy: 0.6035\n",
            "Epoch 4/20\n",
            "184/184 [==============================] - 27s 149ms/step - loss: 0.7335 - accuracy: 0.7122 - val_loss: 0.9821 - val_accuracy: 0.6553\n",
            "Epoch 5/20\n",
            "184/184 [==============================] - 30s 163ms/step - loss: 0.6383 - accuracy: 0.7517 - val_loss: 1.2605 - val_accuracy: 0.5599\n",
            "Epoch 6/20\n",
            "184/184 [==============================] - 32s 172ms/step - loss: 0.5458 - accuracy: 0.7922 - val_loss: 1.1818 - val_accuracy: 0.6117\n",
            "Epoch 7/20\n",
            "184/184 [==============================] - 29s 156ms/step - loss: 0.4325 - accuracy: 0.8420 - val_loss: 1.0888 - val_accuracy: 0.6635\n",
            "Epoch 8/20\n",
            "184/184 [==============================] - 27s 149ms/step - loss: 0.3424 - accuracy: 0.8672 - val_loss: 0.9115 - val_accuracy: 0.6894\n",
            "Epoch 9/20\n",
            "184/184 [==============================] - 28s 153ms/step - loss: 0.2859 - accuracy: 0.9026 - val_loss: 1.1177 - val_accuracy: 0.6757\n",
            "Epoch 10/20\n",
            "184/184 [==============================] - 29s 157ms/step - loss: 0.1829 - accuracy: 0.9343 - val_loss: 1.4447 - val_accuracy: 0.6512\n",
            "Epoch 11/20\n",
            "184/184 [==============================] - 28s 151ms/step - loss: 0.1795 - accuracy: 0.9326 - val_loss: 1.5124 - val_accuracy: 0.6512\n",
            "Epoch 12/20\n",
            "184/184 [==============================] - 28s 152ms/step - loss: 0.1468 - accuracy: 0.9475 - val_loss: 1.6410 - val_accuracy: 0.6499\n",
            "Epoch 13/20\n",
            "184/184 [==============================] - 28s 150ms/step - loss: 0.1307 - accuracy: 0.9544 - val_loss: 1.7847 - val_accuracy: 0.6294\n",
            "Epoch 14/20\n",
            "184/184 [==============================] - 28s 152ms/step - loss: 0.1094 - accuracy: 0.9591 - val_loss: 1.6393 - val_accuracy: 0.6635\n",
            "Epoch 15/20\n",
            "184/184 [==============================] - 28s 153ms/step - loss: 0.0564 - accuracy: 0.9813 - val_loss: 1.7356 - val_accuracy: 0.6526\n",
            "Epoch 16/20\n",
            "184/184 [==============================] - 29s 156ms/step - loss: 0.1026 - accuracy: 0.9656 - val_loss: 1.7967 - val_accuracy: 0.6403\n",
            "Epoch 17/20\n",
            "184/184 [==============================] - 30s 161ms/step - loss: 0.1114 - accuracy: 0.9629 - val_loss: 1.8009 - val_accuracy: 0.6512\n",
            "Epoch 18/20\n",
            "184/184 [==============================] - 27s 149ms/step - loss: 0.0700 - accuracy: 0.9745 - val_loss: 2.1883 - val_accuracy: 0.6390\n",
            "Epoch 19/20\n",
            "184/184 [==============================] - 29s 156ms/step - loss: 0.0656 - accuracy: 0.9775 - val_loss: 2.3227 - val_accuracy: 0.6131\n",
            "Epoch 20/20\n",
            "184/184 [==============================] - 29s 156ms/step - loss: 0.1011 - accuracy: 0.9673 - val_loss: 1.7237 - val_accuracy: 0.6757\n"
          ]
        }
      ],
      "source": [
        "H = model.fit(trainSamples, trainLabels, validation_data=(testSamples,testLabels), epochs=20, batch_size=16)"
      ]
    },
    {
      "cell_type": "code",
      "execution_count": 228,
      "metadata": {
        "id": "kxOYb9JtNvps",
        "colab": {
          "base_uri": "https://localhost:8080/",
          "height": 569
        },
        "outputId": "65c0a079-7a60-4cfa-8401-48baa85dd79d"
      },
      "outputs": [
        {
          "output_type": "display_data",
          "data": {
            "text/plain": [
              "<Figure size 1200x600 with 2 Axes>"
            ],
            "image/png": "[encoded data removed]"
          },
          "metadata": {}
        }
      ],
      "source": [
        "import matplotlib.pyplot as plt\n",
        "# Wykres train_loss i val_loss\n",
        "plt.figure(figsize=(12, 6))\n",
        "plt.subplot(1, 2, 1)\n",
        "plt.plot(H.history['loss'], label='Train Loss')\n",
        "plt.plot(H.history['val_loss'], label='Validation Loss')\n",
        "plt.title('Train and Validation Loss')\n",
        "plt.xlabel('Epochs')\n",
        "plt.ylabel('Loss')\n",
        "plt.legend()\n",
        "\n",
        "# Wykres train_accuracy i val_accuracy\n",
        "plt.subplot(1, 2, 2)\n",
        "plt.plot(H.history['accuracy'], label='Train Accuracy')\n",
        "plt.plot(H.history['val_accuracy'], label='Validation Accuracy')\n",
        "plt.title('Train and Validation Accuracy')\n",
        "plt.xlabel('Epochs')\n",
        "plt.ylabel('Accuracy')\n",
        "plt.legend()\n",
        "\n",
        "plt.tight_layout()\n",
        "plt.show()"
      ]
    },
    {
      "cell_type": "code",
      "execution_count": 231,
      "metadata": {
        "colab": {
          "base_uri": "https://localhost:8080/"
        },
        "id": "u2aa8GTJ94AC",
        "outputId": "3c2544ab-36df-4596-f122-43ad82789708"
      },
      "outputs": [
        {
          "output_type": "stream",
          "name": "stdout",
          "text": [
            "23/23 [==============================] - 2s 85ms/step\n",
            "(734, 5)\n",
            "(734, 5)\n",
            "[[ 80  20  12   2   5]\n",
            " [ 14 130  13  17   9]\n",
            " [ 13  10  69   4  32]\n",
            " [  3   7   2 121   8]\n",
            " [ 11  15  36   5  96]]\n",
            "              precision    recall  f1-score   support\n",
            "\n",
            "           0       0.66      0.67      0.67       119\n",
            "           1       0.71      0.71      0.71       183\n",
            "           2       0.52      0.54      0.53       128\n",
            "           3       0.81      0.86      0.83       141\n",
            "           4       0.64      0.59      0.61       163\n",
            "\n",
            "    accuracy                           0.68       734\n",
            "   macro avg       0.67      0.67      0.67       734\n",
            "weighted avg       0.67      0.68      0.67       734\n",
            "\n",
            "Accuracy: 0.68\n",
            "Cohen's Kappa: 0.59\n"
          ]
        }
      ],
      "source": [
        "from sklearn.metrics import classification_report, confusion_matrix, accuracy_score,cohen_kappa_score\n",
        "\n",
        "modelResults = model.predict(testSamples)\n",
        "print(modelResults.shape)\n",
        "print(testLabels.shape)\n",
        "\n",
        "print(confusion_matrix(testLabels.argmax(axis=1), modelResults.argmax(axis=1)))\n",
        "print(classification_report(testLabels.argmax(axis=1), modelResults.argmax(axis=1)))\n",
        "accuracy = accuracy_score(testLabels.argmax(axis=1), modelResults.argmax(axis=1))\n",
        "print(\"Accuracy: {:.2f}\".format(accuracy))\n",
        "print(\"Cohen's Kappa: {:.2f}\".format(cohen_kappa_score(testLabels.argmax(axis=1), modelResults.argmax(axis=1))))"
      ]
    }
  ],
  "metadata": {
    "colab": {
      "provenance": []
    },
    "kernelspec": {
      "display_name": "Python 3",
      "name": "python3"
    },
    "language_info": {
      "name": "python"
    }
  },
  "nbformat": 4,
  "nbformat_minor": 0
}